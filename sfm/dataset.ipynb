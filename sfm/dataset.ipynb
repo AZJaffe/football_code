{
 "metadata": {
  "language_info": {
   "codemirror_mode": {
    "name": "ipython",
    "version": 3
   },
   "file_extension": ".py",
   "mimetype": "text/x-python",
   "name": "python",
   "nbconvert_exporter": "python",
   "pygments_lexer": "ipython3",
   "version": "3.7.7-final"
  },
  "orig_nbformat": 2,
  "kernelspec": {
   "name": "python_defaultSpec_1597788459819",
   "display_name": "Python 3.7.7 64-bit"
  }
 },
 "nbformat": 4,
 "nbformat_minor": 2,
 "cells": [
  {
   "cell_type": "code",
   "execution_count": 2,
   "metadata": {
    "tags": []
   },
   "outputs": [
    {
     "output_type": "stream",
     "name": "stdout",
     "text": "/Users/ajaffe/Dropbox/research/football/code/sfm\n"
    }
   ],
   "source": [
    "%cd ~/Dropbox/research/football/code/sfm/\n",
    "import trainsfm\n",
    "import sfmnet\n",
    "import numpy as np\n",
    "import torch\n",
    "import torch.nn.functional as F\n",
    "import matplotlib.pyplot as plt\n",
    "import imageio "
   ]
  },
  {
   "cell_type": "code",
   "execution_count": 14,
   "metadata": {
    "tags": []
   },
   "outputs": [
    {
     "output_type": "execute_result",
     "data": {
      "text/plain": "[0, 1, 3, 4, 7, 8, 9, 11]"
     },
     "metadata": {},
     "execution_count": 14
    }
   ],
   "source": [
    "episodes = np.genfromtxt('../../datasets/metatest/metadata.csv', delimiter=',', skip_header=1, dtype=np.int)[:,1]\n",
    "index = []\n",
    "for i, (ep1, ep2) in enumerate(zip(episodes[:-1], episodes[1:])):\n",
    "    if ep1 == ep2:\n",
    "        index.append(i)\n",
    "index"
   ]
  },
  {
   "cell_type": "code",
   "execution_count": 20,
   "metadata": {},
   "outputs": [
    {
     "output_type": "execute_result",
     "data": {
      "text/plain": "13"
     },
     "metadata": {},
     "execution_count": 20
    }
   ],
   "source": [
    "import glob\n",
    "len(glob.glob('../../datasets/metatest/image*.png'))\n"
   ]
  },
  {
   "cell_type": "code",
   "execution_count": 10,
   "metadata": {},
   "outputs": [
    {
     "output_type": "execute_result",
     "data": {
      "text/plain": "torch.Size([4, 3, 8, 8])"
     },
     "metadata": {},
     "execution_count": 10
    }
   ],
   "source": [
    "from pair_frames_dataset import PairConsecutiveFramesDataset \n",
    "ds = PairConsecutiveFramesDataset('../../datasets/metatest')"
   ]
  }
 ]
}