{
 "metadata": {
  "language_info": {
   "codemirror_mode": {
    "name": "ipython",
    "version": 3
   },
   "file_extension": ".py",
   "mimetype": "text/x-python",
   "name": "python",
   "nbconvert_exporter": "python",
   "pygments_lexer": "ipython3",
   "version": "3.7.7-final"
  },
  "orig_nbformat": 2,
  "kernelspec": {
   "name": "python37664bit382593c3a610447f96c23d60d71a65d8",
   "display_name": "Python 3.7.6 64-bit"
  }
 },
 "nbformat": 4,
 "nbformat_minor": 2,
 "cells": [
  {
   "cell_type": "code",
   "execution_count": 1,
   "metadata": {},
   "outputs": [
    {
     "output_type": "execute_result",
     "data": {
      "text/plain": [
       "(1, 320, 480)"
      ]
     },
     "metadata": {},
     "execution_count": 1
    }
   ],
   "source": [
    "import sfmnet\n",
    "import pair_frames_dataset\n",
    "data_dir = '/Volumes/Datablock/datasets/translation_16_speed_academy_empty_goal_close_320x480_gray'\n",
    "ds = pair_frames_dataset.PairConsecutiveFramesDataset(data_dir)\n",
    "im1, im2, labels = ds[0]\n",
    "C,H,W = im1.shape\n",
    "C,H,W"
   ]
  },
  {
   "cell_type": "code",
   "execution_count": 4,
   "metadata": {},
   "outputs": [
    {
     "output_type": "execute_result",
     "data": {
      "text/plain": [
       "(tensor(0.1540, grad_fn=<AddBackward0>),\n",
       " tensor(0.1384, grad_fn=<AddBackward0>))"
      ]
     },
     "metadata": {},
     "execution_count": 4
    }
   ],
   "source": [
    "model = sfmnet.SfMNet(H=H,W=W,im_channels=C)\n",
    "loss = sfmnet.LossModule(model, l1_flow_reg_coeff=0.1)\n",
    "im1,im2,labels = ds[0:1]\n",
    "total_loss, photometric_loss, out, mask, flow, displacement = loss(im1,im2)\n",
    "total_loss, photometric_loss"
   ]
  },
  {
   "cell_type": "code",
   "execution_count": null,
   "metadata": {},
   "outputs": [],
   "source": []
  }
 ]
}