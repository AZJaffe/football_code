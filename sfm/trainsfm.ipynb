{
 "metadata": {
  "language_info": {
   "codemirror_mode": {
    "name": "ipython",
    "version": 3
   },
   "file_extension": ".py",
   "mimetype": "text/x-python",
   "name": "python",
   "nbconvert_exporter": "python",
   "pygments_lexer": "ipython3",
   "version": 3
  },
  "orig_nbformat": 2,
  "kernelspec": {
   "name": "python_defaultSpec_1596994462303",
   "display_name": "Python 3.7.7 64-bit"
  }
 },
 "nbformat": 4,
 "nbformat_minor": 2,
 "cells": [
  {
   "cell_type": "code",
   "execution_count": 1,
   "metadata": {
    "tags": []
   },
   "outputs": [
    {
     "output_type": "stream",
     "name": "stdout",
     "text": "/Users/ajaffe/Dropbox/research/football/code/sfm\n"
    }
   ],
   "source": [
    "%cd ~/Dropbox/research/football/code/sfm/\n",
    "import trainsfm\n",
    "import sfmnet\n",
    "import pair_frames_dataset\n",
    "import numpy as np\n",
    "import torch\n",
    "import torch.nn.functional as F\n",
    "import torch.nn as nn\n",
    "import matplotlib.pyplot as plt\n",
    "import imageio \n",
    "\n",
    "im_channels=1\n",
    "H=4\n",
    "W=6\n",
    "data=torch.ones((8,2*im_channels,H,W))\n",
    "data[0,0,1,1] = 0\n",
    "data[0,1,0,1] = 0\n",
    "data[1,0,2,4] = 0\n",
    "data[1,1,1,5] = 0\n",
    "data[2,0,2,3] = 0\n",
    "data[2,1,2,4] = 0\n",
    "data[3,0,1,1] = 0\n",
    "data[3,1,2,2] = 0\n",
    "data[4,0,1,1] = 0\n",
    "data[4,1,2,1] = 0\n",
    "data[5,0,2,2] = 0\n",
    "data[5,1,3,1] = 0\n",
    "data[6,0,1,4] = 0\n",
    "data[6,1,1,3] = 0\n",
    "data[7,0,2,4] = 0\n",
    "data[7,1,1,3] = 0\n",
    "dl = torch.utils.data.DataLoader(data, batch_size=2, shuffle=True)"
   ]
  },
  {
   "cell_type": "code",
   "execution_count": 4,
   "metadata": {
    "tags": []
   },
   "outputs": [],
   "source": [
    "import datetime\n",
    "def train_model(lr=0.005, hidden_layer_widths=[16], num_epochs=1, maskreg=0., displreg=0.):\n",
    "    model = sfmnet.SfMNet(\n",
    "        H=H,\n",
    "        W=W,\n",
    "        im_channels=im_channels,\n",
    "        K=1,\n",
    "        C=4,\n",
    "        conv_depth=1,\n",
    "        hidden_layer_widths=hidden_layer_widths,\n",
    "    )\n",
    "    optimizer = torch.optim.Adam(model.parameters(), lr=lr)\n",
    "\n",
    "\n",
    "    time = datetime.datetime.now().strftime('%H:%M:%S')\n",
    "    trainsfm.train_loop(\n",
    "        model=model,\n",
    "        vis_point=None,\n",
    "        dl=dl,\n",
    "        optimizer=optimizer,\n",
    "        num_epochs=num_epochs,\n",
    "        vis_freq=None,\n",
    "        tensorboard_dir=f'./tb/08-09/{time}',\n",
    "        maskreg_coeff=maskreg,\n",
    "        displreg_coeff=displreg\n",
    "    )\n",
    "    return model\n",
    "\n",
    "def eval_model(model):\n",
    "    with torch.no_grad():\n",
    "        output, mask, flow, displacement = model(data)\n",
    "        loss = torch.mean(torch.abs(output - data[:,1:]), dim=(1,2,3))\n",
    "        return loss\n",
    "        \n",
    "\n",
    "def vis_model(model):\n",
    "    with torch.no_grad():\n",
    "        output, mask, flow, displacement = model(data)\n",
    "        loss = torch.mean(torch.abs(output - data[:,1:]), dim=(1,2,3))\n",
    "        for l in loss:\n",
    "            print((\"Good \" if l < 1/24 else \"Bad \") + str(l))\n",
    "\n",
    "        sfmnet.visualize(data, output, mask, flow, displacement,spacing=1)\n"
   ]
  },
  {
   "cell_type": "code",
   "execution_count": 7,
   "metadata": {},
   "outputs": [
    {
     "output_type": "execute_result",
     "data": {
      "text/plain": "24"
     },
     "metadata": {},
     "execution_count": 7
    }
   ],
   "source": [
    "lrs = [0.005, 0.01, 0.2, 0.0025]\n",
    "hidden_layer_widths = [[32], [32,32]]\n",
    "regs=[(0.1, 0.1), (0.01, 0.01), (0.001,0.001)]\n",
    "\n",
    "hparams = []\n",
    "for l in lrs:\n",
    "    for h in hidden_layer_widths:\n",
    "        for m,d in regs:\n",
    "            hparams.append({\n",
    "                'lr': l,\n",
    "                'hidden_layer_widths': h,\n",
    "                'maskreg': m,\n",
    "                'displreg': d\n",
    "            })\n",
    "len(hparams)"
   ]
  },
  {
   "cell_type": "code",
   "execution_count": 19,
   "metadata": {
    "tags": []
   },
   "outputs": [
    {
     "output_type": "stream",
     "name": "stdout",
     "text": "epoch: 0 recon_loss: 0.08173 loss: 0.13280 total_time: 0.04s epoch_time: 0.04s\nepoch: 0 recon_loss: 0.07970 loss: 0.12936 total_time: 0.04s epoch_time: 0.04s\nepoch: 0 recon_loss: 0.07970 loss: 0.08549 total_time: 0.03s epoch_time: 0.03s\nepoch: 0 recon_loss: 0.07279 loss: 0.07813 total_time: 0.04s epoch_time: 0.04s\nepoch: 0 recon_loss: 0.07711 loss: 0.07762 total_time: 0.04s epoch_time: 0.04s\nepoch: 0 recon_loss: 0.07397 loss: 0.07477 total_time: 0.03s epoch_time: 0.03s\nepoch: 0 recon_loss: 0.08199 loss: 0.13119 total_time: 0.03s epoch_time: 0.03s\nepoch: 0 recon_loss: 0.08221 loss: 0.12035 total_time: 0.03s epoch_time: 0.03s\nepoch: 0 recon_loss: 0.08191 loss: 0.08711 total_time: 0.23s epoch_time: 0.23s\nepoch: 0 recon_loss: 0.08014 loss: 0.08541 total_time: 0.04s epoch_time: 0.04s\nepoch: 0 recon_loss: 0.07255 loss: 0.07327 total_time: 0.05s epoch_time: 0.05s\nepoch: 0 recon_loss: 0.08296 loss: 0.08344 total_time: 0.04s epoch_time: 0.04s\nepoch: 0 recon_loss: 0.07611 loss: 0.14034 total_time: 0.03s epoch_time: 0.03s\nepoch: 0 recon_loss: 0.08288 loss: 0.13725 total_time: 0.06s epoch_time: 0.06s\nepoch: 0 recon_loss: 0.07406 loss: 0.08069 total_time: 0.09s epoch_time: 0.09s\nepoch: 0 recon_loss: 0.08092 loss: 0.08754 total_time: 0.04s epoch_time: 0.04s\nepoch: 0 recon_loss: 0.07552 loss: 0.07635 total_time: 0.15s epoch_time: 0.15s\nepoch: 0 recon_loss: 0.07964 loss: 0.08025 total_time: 0.06s epoch_time: 0.06s\nepoch: 0 recon_loss: 0.08140 loss: 0.13108 total_time: 0.04s epoch_time: 0.04s\nepoch: 0 recon_loss: 0.08222 loss: 0.14254 total_time: 0.06s epoch_time: 0.06s\nepoch: 0 recon_loss: 0.08024 loss: 0.08748 total_time: 0.04s epoch_time: 0.04s\nepoch: 0 recon_loss: 0.07975 loss: 0.08678 total_time: 0.24s epoch_time: 0.24s\nepoch: 0 recon_loss: 0.08034 loss: 0.08094 total_time: 0.03s epoch_time: 0.03s\nepoch: 0 recon_loss: 0.07041 loss: 0.07110 total_time: 0.06s epoch_time: 0.06s\nepoch: 0 recon_loss: 0.08530 loss: 0.78190 total_time: 0.08s epoch_time: 0.08s\nepoch: 0 recon_loss: 0.08417 loss: 0.91024 total_time: 0.05s epoch_time: 0.05s\nepoch: 0 recon_loss: 0.08973 loss: 0.12207 total_time: 0.06s epoch_time: 0.06s\nepoch: 0 recon_loss: 0.05533 loss: 0.36470 total_time: 0.06s epoch_time: 0.06s\nepoch: 0 recon_loss: 0.06094 loss: 0.07134 total_time: 0.05s epoch_time: 0.05s\nepoch: 0 recon_loss: 0.08050 loss: 0.09227 total_time: 0.05s epoch_time: 0.05s\nepoch: 0 recon_loss: 0.07257 loss: 5.33057 total_time: 0.03s epoch_time: 0.03s\nepoch: 0 recon_loss: 0.07849 loss: 7.11326 total_time: 0.03s epoch_time: 0.03s\nepoch: 0 recon_loss: 0.06672 loss: 0.20307 total_time: 0.05s epoch_time: 0.05s\nepoch: 0 recon_loss: 0.07286 loss: 1.68431 total_time: 0.03s epoch_time: 0.03s\nepoch: 0 recon_loss: 0.05843 loss: 0.28711 total_time: 0.04s epoch_time: 0.04s\nepoch: 0 recon_loss: 0.06474 loss: 0.62292 total_time: 0.03s epoch_time: 0.03s\nepoch: 0 recon_loss: 0.08250 loss: 0.12888 total_time: 0.03s epoch_time: 0.03s\nepoch: 0 recon_loss: 0.08064 loss: 0.12923 total_time: 0.04s epoch_time: 0.04s\nepoch: 0 recon_loss: 0.08189 loss: 0.08588 total_time: 0.04s epoch_time: 0.04s\nepoch: 0 recon_loss: 0.08001 loss: 0.08669 total_time: 0.03s epoch_time: 0.03s\nepoch: 0 recon_loss: 0.07741 loss: 0.07797 total_time: 0.04s epoch_time: 0.04s\nepoch: 0 recon_loss: 0.07854 loss: 0.07914 total_time: 0.04s epoch_time: 0.04s\nepoch: 0 recon_loss: 0.08238 loss: 0.13909 total_time: 0.04s epoch_time: 0.04s\nepoch: 0 recon_loss: 0.08177 loss: 0.13301 total_time: 0.10s epoch_time: 0.10s\nepoch: 0 recon_loss: 0.08301 loss: 0.08748 total_time: 0.05s epoch_time: 0.05s\nepoch: 0 recon_loss: 0.08209 loss: 0.08695 total_time: 0.03s epoch_time: 0.03s\nepoch: 0 recon_loss: 0.07993 loss: 0.08047 total_time: 0.06s epoch_time: 0.06s\nepoch: 0 recon_loss: 0.08323 loss: 0.08373 total_time: 0.03s epoch_time: 0.03s\n0.0\n1.5\n1.5\n0.0\n0.5\n0.5\n0.0\n1.0\n1.5\n0.0\n0.0\n0.0\n0.0\n0.0\n0.0\n0.0\n0.0\n0.0\n0.0\n0.5\n0.0\n0.0\n0.0\n0.0\n"
    }
   ],
   "source": [
    "num_runs = 2\n",
    "result = [None] * len(hparams)\n",
    "for k,hparam in enumerate(hparams):\n",
    "    ms = [train_model(num_epochs=1, **hparam) for i in range(num_runs)]\n",
    "    losses = np.array([eval_model(m).numpy() for m in ms])\n",
    "    good = losses < 1/24\n",
    "    mediangood = np.median(np.sum(good, axis=1))\n",
    "    maxgood = np.max(np.sum(good, axis=1))\n",
    "    mingood = np.max(np.sum(good, axis=1))\n",
    "    result[k] = {}\n",
    "    result[k]['loss'] = losses.tolist()\n",
    "    result[k]['mean_loss'] = np.mean(losses)\n",
    "    result[k]['good'] = good\n",
    "    result[k]['mediangood'] = np.median(np.sum(good, axis=1))\n",
    "for r in result:\n",
    "    print(r['mediangood'])"
   ]
  },
  {
   "cell_type": "code",
   "execution_count": 26,
   "metadata": {},
   "outputs": [],
   "source": [
    "import pickle\n",
    "with open('./data.p', 'wb') as f:\n",
    "    pickle.dump(result, f)"
   ]
  }
 ]
}